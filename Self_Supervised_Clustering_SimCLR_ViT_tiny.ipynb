{
  "cells": [
    {
      "cell_type": "code",
      "source": [
        "from google.colab import drive\n",
        "drive.mount('/content/drive')"
      ],
      "metadata": {
        "colab": {
          "base_uri": "https://localhost:8080/"
        },
        "id": "3GOQms0N-adV",
        "outputId": "8e2416d1-504b-46ca-b36a-3b09eda516c2"
      },
      "execution_count": 1,
      "outputs": [
        {
          "output_type": "stream",
          "name": "stdout",
          "text": [
            "Mounted at /content/drive\n"
          ]
        }
      ]
    },
    {
      "cell_type": "code",
      "execution_count": 3,
      "metadata": {
        "id": "Nhr2yGbSKlv_"
      },
      "outputs": [],
      "source": [
        "import torch\n",
        "import torch.nn as nn\n",
        "import torch.nn.functional as F\n",
        "import torch.optim as optim\n",
        "from tqdm import tqdm\n",
        "from torchvision import models\n",
        "\n",
        "# Method 1: SimCLR\n",
        "\n",
        "from torch.optim.lr_scheduler import _LRScheduler\n",
        "from torch.optim.lr_scheduler import ReduceLROnPlateau\n",
        "import torch\n",
        "\n",
        "\n",
        "class CustomScheduler: # Need this else NaNs\n",
        "    def __init__(self, optimizer, warmup_epochs, initial_lr, final_lr, total_epochs):\n",
        "        self.optimizer = optimizer\n",
        "        self.warmup_epochs = warmup_epochs\n",
        "        self.initial_lr = initial_lr\n",
        "        self.final_lr = final_lr\n",
        "        self.total_epochs = total_epochs\n",
        "        self.after_warmup_scheduler = torch.optim.lr_scheduler.CosineAnnealingLR(optimizer, T_max=total_epochs - warmup_epochs)\n",
        "\n",
        "    def step(self, epoch):\n",
        "        if epoch < self.warmup_epochs:\n",
        "            # Warm-up phase\n",
        "            lr = self.initial_lr + (self.final_lr - self.initial_lr) * epoch / self.warmup_epochs\n",
        "            for param_group in self.optimizer.param_groups:\n",
        "                param_group['lr'] = lr\n",
        "        else:\n",
        "            # After warm-up, use the cosine annealing schedule\n",
        "            self.after_warmup_scheduler.step(epoch - self.warmup_epochs)\n",
        "\n",
        "\n",
        "class simCLR(nn.Module): # the similarity loss of simCLR\n",
        "\n",
        "    def __init__(self, encoder, device,batch_size,epochs):\n",
        "        super().__init__()\n",
        "        self.model = encoder.to(device) # define the encoder here\n",
        "        self.criterion = torch.nn.CrossEntropyLoss().to(device)\n",
        "        self.batch_size = batch_size\n",
        "        self.epochs = epochs\n",
        "        self.device = device\n",
        "        self.optimizer          = torch.optim.AdamW(self.parameters(), lr=1e-3, betas=(0.9, 0.95), weight_decay=0.05)\n",
        "        #self.scheduler          = torch.optim.lr_scheduler.CosineAnnealingLR(self.optimizer, T_max=20, eta_min=1e-8)#, last_epoch=-1)\n",
        "        self.scheduler          = CustomScheduler(self.optimizer, warmup_epochs=50, initial_lr=1e-5, final_lr=1e-3, total_epochs=150)\n",
        "\n",
        "\n",
        "\n",
        "    def SimCLR_loss(self, features):\n",
        "        n_views = 2\n",
        "        # Define the similarity matrix's pattern (which elements are related in the batch and which aren't)\n",
        "        #original_tensor = torch.arange(0,self.batch_size,1)\n",
        "        # Create the repeated pattern\n",
        "        #pattern = torch.repeat_interleave(original_tensor, repeats=n_views)\n",
        "        pattern = torch.cat([torch.arange(self.batch_size) for i in range(n_views)], dim=0)\n",
        "        # make similarity matrix by the above method (need to understand this)\n",
        "        pattern = (pattern.unsqueeze(0) == pattern.unsqueeze(1)).float()\n",
        "        pattern = pattern.to(self.device)\n",
        "        mask = torch.eye(pattern.shape[0])\n",
        "        mask = mask.to(self.device)\n",
        "        pattern = pattern-mask\n",
        "\n",
        "        features = F.normalize(features,dim=1)\n",
        "        similarity_matrix = torch.matmul(features, features.T)\n",
        "        similarity_matrix = similarity_matrix - mask\n",
        "\n",
        "        # select and combine positives\n",
        "        positives = similarity_matrix[pattern.bool()].view(pattern.shape[0],-1)\n",
        "        negatives = similarity_matrix[~pattern.bool()].view(similarity_matrix.shape[0],-1)\n",
        "\n",
        "        logits = torch.cat([positives,negatives],dim=1)\n",
        "        # we have to further develop the logits function as follows: we will define a temperature argument that sets the shape of the distribution\n",
        "        temperature = 0.07\n",
        "        logits = logits / temperature\n",
        "        labels = torch.zeros(logits.shape[0], dtype=torch.long).to(self.device)\n",
        "\n",
        "        return logits, labels\n",
        "\n",
        "    def get_encoder(self):\n",
        "        return self.model\n",
        "\n",
        "    def save_checkpoint(self, file_path):\n",
        "        \"\"\"\n",
        "        Save the model checkpoint.\n",
        "        \"\"\"\n",
        "        checkpoint = {\n",
        "            'model_state_dict': self.state_dict(),\n",
        "            'optimizer_state_dict': self.optimizer.state_dict()\n",
        "        }\n",
        "        torch.save(checkpoint, file_path)\n",
        "        print(f\"Checkpoint saved to {file_path}\")\n",
        "\n",
        "    def load_checkpoint(self, file_path, device):\n",
        "        \"\"\"\n",
        "        Load the model from the checkpoint.\n",
        "        \"\"\"\n",
        "        checkpoint = torch.load(file_path, map_location=device)\n",
        "        self.load_state_dict(checkpoint['model_state_dict'])\n",
        "        self.optimizer.load_state_dict(checkpoint['optimizer_state_dict'])\n",
        "        print(f\"Checkpoint loaded from {file_path}\")\n",
        "\n",
        "\n",
        "\n",
        "    def train(self, dataloader):\n",
        "        self.losses = []  # Track losses\n",
        "\n",
        "        # Start training\n",
        "        for epoch in range(self.epochs):\n",
        "            # Initialize tqdm progress bar\n",
        "            train_loader = tqdm(dataloader, desc=f\"Epoch {epoch + 1}/{self.epochs}\")\n",
        "\n",
        "            for views, _ in train_loader:  # Unpack data and labels from each batch\n",
        "                imgs = torch.cat(views, dim=0).to(self.device)\n",
        "\n",
        "                # Load images and calculate InfoNCE loss\n",
        "                features = self.model(imgs)\n",
        "                logits, labels = self.SimCLR_loss(features)\n",
        "                loss = self.criterion(logits, labels)\n",
        "\n",
        "                # Append the loss\n",
        "                self.losses.append(loss.item())\n",
        "\n",
        "                # Perform optimization\n",
        "                self.optimizer.zero_grad()\n",
        "                loss.backward()\n",
        "                self.optimizer.step()\n",
        "\n",
        "                # Update tqdm progress bar with the current loss\n",
        "                train_loader.set_postfix(loss=loss.item())\n",
        "\n",
        "            if (int(epoch)%10 == 0):\n",
        "              file_path = '/content/drive/MyDrive/SimCLR_UMAP/simclr_checkpoint.pth'\n",
        "\n",
        "              # Save the current state of the model and optimizer\n",
        "              self.save_checkpoint(file_path)\n",
        "\n",
        "\n",
        "            #self.scheduler.step(epoch)\n",
        "\n",
        "\n",
        "        return self.losses"
      ]
    },
    {
      "cell_type": "code",
      "execution_count": 4,
      "metadata": {
        "id": "s3ylYQD-K1yM"
      },
      "outputs": [],
      "source": [
        "from torchvision import transforms\n",
        "\n",
        "\n",
        "class ContrastiveTransformations(object):\n",
        "    def __init__(self, size=32, nviews=2, **kwargs):\n",
        "        self.size = size\n",
        "        self.nviews = nviews\n",
        "        self.horizontal_flip = kwargs.get('horizontal_flip', True)\n",
        "        self.resized_crop = kwargs.get('resized_crop', True)\n",
        "        self.color_jitter = kwargs.get('color_jitter', True)\n",
        "        self.random_grayscale = kwargs.get('random_grayscale', True)\n",
        "        self.to_tensor = kwargs.get('to_tensor', True)\n",
        "        self.normalize = kwargs.get('normalize', True)\n",
        "        self.brightness = kwargs.get('brightness', 0.5)\n",
        "        self.contrast = kwargs.get('contrast', 0.5)\n",
        "        self.saturation = kwargs.get('saturation', 0.5)\n",
        "        self.hue = kwargs.get('hue', 0.1)\n",
        "        self.color_jitter_p = kwargs.get('color_jitter_p', 0.8)\n",
        "        self.grayscale_p = kwargs.get('grayscale_p', 0.2)\n",
        "        self.mean = kwargs.get('mean', (0.5,))\n",
        "        self.std = kwargs.get('std', (0.5,))\n",
        "\n",
        "    def __call__(self, x):\n",
        "        transforms_list = []\n",
        "        if self.horizontal_flip:\n",
        "            transforms_list.append(transforms.RandomHorizontalFlip())\n",
        "        if self.resized_crop:\n",
        "            transforms_list.append(transforms.RandomResizedCrop(self.size))\n",
        "        if self.color_jitter:\n",
        "            color_jitter_transform = transforms.ColorJitter(\n",
        "                brightness=self.brightness,\n",
        "                contrast=self.contrast,\n",
        "                saturation=self.saturation,\n",
        "                hue=self.hue\n",
        "            )\n",
        "            transforms_list.append(transforms.RandomApply([color_jitter_transform], p=self.color_jitter_p))\n",
        "        if self.random_grayscale:\n",
        "            transforms_list.append(transforms.RandomGrayscale(p=self.grayscale_p))\n",
        "        if self.to_tensor:\n",
        "            transforms_list.append(transforms.ToTensor())\n",
        "        if self.normalize:\n",
        "            transforms_list.append(transforms.Normalize(self.mean, self.std))\n",
        "\n",
        "        composed_transforms = transforms.Compose(transforms_list)\n",
        "        return [composed_transforms(x) for _ in range(self.nviews)]\n",
        "\n",
        "\n"
      ]
    },
    {
      "cell_type": "code",
      "execution_count": 7,
      "metadata": {
        "id": "yEeKKf13L5lF"
      },
      "outputs": [],
      "source": [
        "# Encoder 1: ResNet\n",
        "\n",
        "class ConvBlock(nn.Module):\n",
        "    def __init__(self,InputChannel,OutputChannel,Kernel,Padding,Stride):\n",
        "        super().__init__()\n",
        "        self.input_channel      = InputChannel\n",
        "        self.kernel             = Kernel\n",
        "        self.padding            = Padding\n",
        "        self.stride             = Stride\n",
        "        self.output_channel     = OutputChannel\n",
        "        self.convblock          = nn.Sequential(\n",
        "                nn.Conv2d(\n",
        "                        in_channels     =self.input_channel,\n",
        "                        out_channels    =self.output_channel,\n",
        "                        kernel_size     =self.kernel,\n",
        "                        stride          =self.stride,\n",
        "                        padding         =self.padding,\n",
        "                        bias            =False),\n",
        "                nn.BatchNorm2d(64),\n",
        "                nn.ReLU(),\n",
        "                nn.MaxPool2d(kernel_size=self.kernel,stride=self.padding,padding=self.padding)\n",
        "        )\n",
        "\n",
        "    def forward(self,x):\n",
        "        x = self.convblock(x)\n",
        "        return x\n",
        "\n",
        "\n",
        "class ResidualBlock(nn.Module):\n",
        "    def __init__(self,in_channels,out_channels,stride = 1, downsample = None):\n",
        "        super().__init__() # inherit properties of nn.Module\n",
        "        self.conv1 = nn.Sequential(nn.Conv2d(in_channels=in_channels,out_channels=out_channels, kernel_size=3,stride=stride,padding=1),\n",
        "                                   nn.BatchNorm2d(out_channels),\n",
        "                                   nn.ReLU()\n",
        "                                   )\n",
        "        self.conv2 = nn.Sequential(nn.Conv2d(in_channels=out_channels,out_channels=out_channels,stride=1,padding=1,kernel_size=3),\n",
        "                                   nn.BatchNorm2d(out_channels)\n",
        "                                   )\n",
        "        self.out_channels = out_channels\n",
        "        self.nonlinear = nn.ReLU()\n",
        "        self.downsample = downsample\n",
        "\n",
        "    def forward(self,x):\n",
        "        residual = x #save residual in separate variable\n",
        "        out = self.conv1(x)\n",
        "        out = self.conv2(out)\n",
        "        if self.downsample:\n",
        "            residual = self.downsample(x)\n",
        "        out += residual # add the residual connections\n",
        "        out = self.nonlinear(out)\n",
        "        return out\n",
        "\n",
        "\n",
        "class ResNet(nn.Module):\n",
        "    def __init__(self,block,blocks,outputchannels):\n",
        "        super().__init__()\n",
        "        # add initial convolutional layer\n",
        "        self.convlayer  = ConvBlock(InputChannel=3,OutputChannel=64,Kernel=3,Padding=1,Stride=1)\n",
        "        # add the residual blocks\n",
        "        self.layer1     = self._make_layer(block,inchannels=64,channels=128,numblocks = blocks[0],stride=2)\n",
        "        self.layer2     = self._make_layer(block,inchannels=128,channels=256,numblocks = blocks[1],stride=2)\n",
        "        self.layer3     = self._make_layer(block,inchannels=256,channels=512,numblocks = blocks[2],stride=2)\n",
        "        #self.layer4     = self._make_layer(block,inchannels=64,channels=128,layers[0],stride=1)\n",
        "        # add the average pooling block\n",
        "        self.avgpooling = nn.AdaptiveAvgPool2d((1,1)) # compresses the above to 512,1,1 output size by averaging over the other dimensions\n",
        "        self.fc         = nn.Linear(512,outputchannels)\n",
        "\n",
        "    def _make_layer(self,block,inchannels,channels,numblocks,stride=1):\n",
        "        # first define whether a downsample is needed:\n",
        "        downsample = None\n",
        "        if stride != 1 or inchannels != channels:\n",
        "            downsample  = nn.Sequential(\n",
        "                nn.Conv2d(in_channels=inchannels,out_channels = channels, kernel_size=1,stride = stride),\n",
        "                nn.BatchNorm2d(channels)\n",
        "            )\n",
        "        layers = []\n",
        "        layers.append(block(inchannels,channels,stride,downsample))\n",
        "        for _ in range(1,numblocks): # loop over number of blocks\n",
        "            layers.append(block(channels,channels))\n",
        "\n",
        "        return nn.Sequential(*layers) # * operator is used to unpack the elements of an iterable (layers)\n",
        "\n",
        "    def forward(self,x):\n",
        "        x = self.convlayer(x)\n",
        "        x = self.layer1(x)\n",
        "        x = self.layer2(x)\n",
        "        x = self.layer3(x)\n",
        "        x = self.avgpooling(x)\n",
        "        x = torch.flatten(x,1) # convert to 1X1 vector\n",
        "        x = self.fc(x)\n",
        "        return x\n",
        "\n"
      ]
    },
    {
      "cell_type": "code",
      "execution_count": 5,
      "metadata": {
        "id": "p6Acf1RnNHs8"
      },
      "outputs": [],
      "source": [
        "\n",
        "\n",
        "# Encoder 2: ViT\n",
        "\n",
        "class PatchEmbed(nn.Module):\n",
        "    # converts image into patch embeddings based on total number of non-overlapping crops.\n",
        "    # For each image containing n patches, there should be n embedding vectors per image, so a n x embedding_vector matrix.\n",
        "    def __init__(self,img_size,patch_size,in_channels=3, embed_dim=256):\n",
        "        super().__init__()\n",
        "        self.img_size       = img_size\n",
        "        self.patch_size     = patch_size\n",
        "        self.in_channels    = in_channels\n",
        "        self.n_patches      = (img_size // patch_size)**2\n",
        "        self.project        = nn.Conv2d(\n",
        "                                    in_channels     =in_channels,\n",
        "                                    out_channels    = embed_dim,\n",
        "                                    kernel_size     = patch_size,\n",
        "                                    stride          = patch_size,\n",
        "                                    )\n",
        "\n",
        "    def forward(self,x):\n",
        "        # x has input a tensor of shape B, C, H, W (batch, channel, height, width)\n",
        "\n",
        "        x = self.project(x)     # Batch X Embedding Dim X sqrt(N_patches) X sqrt(N_patches)\n",
        "        x = x.flatten(2)        # Batch X Embedding Dim X N_patches\n",
        "        x = x.transpose(1,2)    # Batch X N_patches X Embedding Dim\n",
        "\n",
        "        return x\n",
        "\n",
        "\n",
        "class Attention(nn.Module):\n",
        "\n",
        "    def __init__(self, embed_dim, n_heads, qkv_bias = False, attn_dropout = 0., projection_dropout=0.):\n",
        "        super().__init__()\n",
        "        self.embed_dim          = embed_dim\n",
        "        self.n_heads            = n_heads\n",
        "        self.head_dim           = embed_dim // n_heads\n",
        "        self.scale              = self.head_dim ** -0.5 # From vaswani paper\n",
        "        self.qkv                = nn.Linear(embed_dim, 3* embed_dim) # convert input to query, key and value\n",
        "        self.project            = nn.Linear(embed_dim,embed_dim)\n",
        "        self.project_dropout    = nn.Dropout(projection_dropout)\n",
        "        self.attention_dropout  = nn.Dropout(attn_dropout)\n",
        "\n",
        "    def forward(self,x):\n",
        "\n",
        "        batches, tokens, embed_dim = x.shape # tokens = total patches plus 1 class token\n",
        "\n",
        "        QueryKeyValue = self.qkv(x) # it is like a neural form of repmat function.\n",
        "        QueryKeyValue = QueryKeyValue.reshape(batches, tokens, 3, self.n_heads,self.head_dim)\n",
        "        # Above has following dim: batches, tokens, [Query  Key Value], num_heads, head_dim\n",
        "        QueryKeyValue = QueryKeyValue.permute(      2,      0, 3,             1,           4)\n",
        "        # Above has following dim: QKV, batches, num_heads, tokens, head_dim\n",
        "        Query, Key, Value    = QueryKeyValue[0], QueryKeyValue[1], QueryKeyValue[2]\n",
        "        # Above has following dim: batches, num_heads, tokens, head_dim\n",
        "        Attn_dot_product     = (Query @ Key.transpose(-2, -1)) * self.scale\n",
        "        # Above has following dim: batches, num_heads, tokens, tokens\n",
        "        Attention_mechanism  = Attn_dot_product.softmax(dim=-1)\n",
        "        # Above has following dim: batches, num_heads, tokens, tokens\n",
        "        Attention_mechanism  = self.attention_dropout(Attention_mechanism)\n",
        "        # Applying the mask (from Values)\n",
        "        Masking_mechanism    = (Attention_mechanism @ Value).transpose(1,2)\n",
        "        # Above has following dim: batches, tokens, num_heads, head_dimension\n",
        "        Masking_mechanism    = Masking_mechanism.flatten(2)\n",
        "        # Above has following dim: batches, tokens, (num_heads*head_dimension), or, batches, tokens, embedding_dim\n",
        "        Projection_operation = self.project(Masking_mechanism)\n",
        "        Projection_operation = self.project_dropout(Projection_operation)\n",
        "\n",
        "        return Projection_operation\n",
        "\n",
        "\n",
        "class MultiLayerPerceptron(nn.Module):\n",
        "\n",
        "    def __init__(self,in_features,hidden_features,out_features,dropout=0.):\n",
        "        super().__init__()\n",
        "        self.fc1            = nn.Linear(in_features,hidden_features)\n",
        "        self.fc2            = nn.Linear(hidden_features,out_features)\n",
        "        self.dropout        = nn.Dropout(dropout)\n",
        "        self.activation     = nn.GELU()\n",
        "\n",
        "    def forward(self,x): # x :: batches, tokens, in features\n",
        "        x = self.fc1(x) # x :: batches, tokens, hidden features\n",
        "        x = self.activation(x)\n",
        "        x = self.dropout(x)\n",
        "        x = self.fc2(x) # x :: batches, tokens, out features\n",
        "        x = self.dropout(x)\n",
        "        return x\n",
        "\n",
        "class TransformerBlock(nn.Module):\n",
        "\n",
        "    def __init__(self, embedding_dim, num_heads, MLP_ratio=4.0, qkv_bias = True, attention_dropout=0., projection_dropout=0.):\n",
        "        super().__init__()\n",
        "        self.norm1      = nn.LayerNorm(embedding_dim,eps=1e-6)\n",
        "        self.norm2      = nn.LayerNorm(embedding_dim,eps=1e-6)\n",
        "        self.attention  = Attention(embedding_dim,num_heads,qkv_bias,attention_dropout,projection_dropout)\n",
        "        hidden_features = int(MLP_ratio * embedding_dim)\n",
        "        self.mlp        = MultiLayerPerceptron(embedding_dim, hidden_features, embedding_dim, projection_dropout)\n",
        "\n",
        "    def forward(self,x):\n",
        "        x = x + self.attention(x)\n",
        "        x = x + self.mlp(x)\n",
        "        return x\n",
        "\n",
        "class ViT_encoder(nn.Module):\n",
        "\n",
        "    def __init__(self,\n",
        "                 image_size,            # image_size (int)            : size of the input image\n",
        "                 patch_size,            # patch_size (int)            : size of the patches to be extracted from the input image\n",
        "                 in_channels,           # in_channels (int)           : number of input channels\n",
        "                 embedding_dim,         # embedding_dim (int)         : number of elements of the embedding vector (per patch)\n",
        "                 feature_size,          # feature_size (int)          : Total size of feature vector\n",
        "                 n_blocks,              # n_blocks (int)              : total number of sequential transformer blocks (a.k.a. depth)\n",
        "                 n_heads,               # n_heads (int)               : total number of attention heads per transformer block\n",
        "                 mlp_ratio,             # mlp_ratio (float)           : the ratio by which embedding dimension expands inside a transformer block (in the MLP layer after attention)\n",
        "                 qkv_bias,              # qkv_bias (bool)             : whether to add a bias term to the qkv projection layer or not\n",
        "                 attention_dropout,     # attention_dropout (float)   : dropout in the attention layer\n",
        "                 projection_dropout     # projection_dropout (float)  : dropout in the projection layer\n",
        "                 ):\n",
        "        super().__init__()\n",
        "        self.patch_embedding    = PatchEmbed(\n",
        "                                            img_size        =   image_size,\n",
        "                                            patch_size      =   patch_size,\n",
        "                                            in_channels     =   in_channels,\n",
        "                                            embed_dim       =   embedding_dim\n",
        "                                            )\n",
        "\n",
        "        self.class_token        = nn.Parameter(torch.zeros(1,1,embedding_dim))\n",
        "        self.position_embedding = nn.Parameter(torch.zeros(1, self.patch_embedding.n_patches + 1, embedding_dim))\n",
        "        self.position_dropout   = nn.Dropout(p = projection_dropout)\n",
        "        self.blocks             = nn.ModuleList(\n",
        "                                        [\n",
        "                                            TransformerBlock(\n",
        "                                                            embedding_dim       = embedding_dim,\n",
        "                                                            num_heads           = n_heads,\n",
        "                                                            MLP_ratio           = mlp_ratio,\n",
        "                                                            qkv_bias            = qkv_bias,\n",
        "                                                            attention_dropout   = attention_dropout,\n",
        "                                                            projection_dropout  = projection_dropout,\n",
        "                                                             )\n",
        "                                         for _ in range(n_blocks)]\n",
        "                                        )\n",
        "        self.norm               = nn.LayerNorm(embedding_dim, eps=1e-6)\n",
        "        self.head               = nn.Linear(embedding_dim, feature_size)\n",
        "\n",
        "    def forward(self,x):\n",
        "\n",
        "        batches             = x.shape[0] # total samples per batch\n",
        "        x                   = self.patch_embedding(x) # convert images to patch embedding\n",
        "        class_token         = self.class_token.expand(batches, -1, -1) #\n",
        "        x                   = torch.cat((class_token,x), dim=1) # class token is not appended to the patch tokens\n",
        "        x                   = x + self.position_embedding#(x) # Add the position embedding mechanism\n",
        "        x                   = self.position_dropout(x)\n",
        "        for block in self.blocks:\n",
        "            x = block(x)\n",
        "        x                   = self.norm(x) # add the layer norm mechanism now, giving us n_samples X (class token + patch token) X embedding dim\n",
        "        x                   = x[:, 1:, :].mean(dim=1)  # global pool without cls token, giving us n_samples X embedding_dim\n",
        "        # the 1: is done in the second dim because the first entry there is the class token, which we do not need (why do we have it then? lol...)\n",
        "        x                   = self.head(x) # expand feature set to intended feature size\n",
        "        return x\n"
      ]
    },
    {
      "cell_type": "code",
      "execution_count": 6,
      "metadata": {
        "colab": {
          "base_uri": "https://localhost:8080/"
        },
        "id": "1_-KRMRpKzmG",
        "outputId": "13f7fb9c-ced7-49d0-c798-633930ec7cbe"
      },
      "outputs": [
        {
          "output_type": "stream",
          "name": "stdout",
          "text": [
            "Downloading https://www.cs.toronto.edu/~kriz/cifar-10-python.tar.gz to ./data/cifar-10-python.tar.gz\n"
          ]
        },
        {
          "output_type": "stream",
          "name": "stderr",
          "text": [
            "100%|██████████| 170498071/170498071 [00:05<00:00, 29488513.10it/s]\n"
          ]
        },
        {
          "output_type": "stream",
          "name": "stdout",
          "text": [
            "Extracting ./data/cifar-10-python.tar.gz to ./data\n"
          ]
        }
      ],
      "source": [
        "from torchvision.datasets import CIFAR10\n",
        "from torch.utils.data import DataLoader\n",
        "import torch\n",
        "\n",
        "BATCH_SIZE = 2500\n",
        "EPOCHS = 150\n",
        "\n",
        "\n",
        "contrast_transforms = ContrastiveTransformations(\n",
        "        nviews          =   2,\n",
        "        horizontal_flip =   True,\n",
        "        resized_crop    =   True,\n",
        "        color_jitter    =   True,\n",
        "        random_grayscale=   True,\n",
        "        brightness      =   0.5,\n",
        "        contrast        =   0.5,\n",
        "        saturation      =   0.5,\n",
        "        hue             =   0.1,\n",
        "        color_jitter_p  =   0.8,\n",
        "        grayscale_p     =   0.2,\n",
        "        to_tensor       =   True,\n",
        "        normalize       =   True,\n",
        "        mean            =   (0.5,),\n",
        "        std             =   (0.5,)\n",
        "    )\n",
        "\n",
        "# Initialize dataset and dataloader\n",
        "cifar_trainset  = CIFAR10(root='./data',train=True,download=True, transform=contrast_transforms)\n",
        "train_loader    = DataLoader(cifar_trainset, batch_size=BATCH_SIZE, shuffle=True)\n",
        "\n",
        "\n",
        "device   = torch.device(\"cuda\")\n",
        "\n",
        "def resnet34():\n",
        "    layers   = [3, 5, 7, 5]\n",
        "    model    = ResNet(ResidualBlock, layers,1000)\n",
        "    return model\n",
        "\n",
        "def ViTencoder():\n",
        "        model = ViT_encoder(\n",
        "                    image_size          =   32,\n",
        "                    patch_size          =   16,\n",
        "                    in_channels         =   3,\n",
        "                    embedding_dim       =   512,\n",
        "                    feature_size        =   1000,\n",
        "                    n_blocks            =   12,\n",
        "                    n_heads             =   8,\n",
        "                    mlp_ratio           =   4.0,\n",
        "                    qkv_bias            =   True,\n",
        "                    attention_dropout   =   0.2,\n",
        "                    projection_dropout  =   0.2)\n",
        "        return model\n",
        "\n",
        "encoder  = ViTencoder() #resnet34()\n",
        "\n",
        "simclr_model    = simCLR(\n",
        "                            encoder         = ViTencoder(),#resnet34(),\n",
        "                            device          = device,\n",
        "                            batch_size      = BATCH_SIZE,\n",
        "                            epochs          = EPOCHS)\n",
        "\n"
      ]
    },
    {
      "cell_type": "code",
      "source": [
        "\n",
        "simclr_loss_iter  =   simclr_model.train(train_loader)\n",
        "\n"
      ],
      "metadata": {
        "colab": {
          "base_uri": "https://localhost:8080/"
        },
        "id": "Z7z2Yx2a3Bhy",
        "outputId": "5324e4b6-3eb0-4471-8341-f520344763f3"
      },
      "execution_count": 14,
      "outputs": [
        {
          "output_type": "stream",
          "name": "stderr",
          "text": [
            "Epoch 1/50: 100%|██████████| 20/20 [02:25<00:00,  7.25s/it, loss=6.58]\n"
          ]
        },
        {
          "output_type": "stream",
          "name": "stdout",
          "text": [
            "Checkpoint saved to /content/drive/MyDrive/SimCLR_UMAP/simclr_checkpoint.pth\n"
          ]
        },
        {
          "output_type": "stream",
          "name": "stderr",
          "text": [
            "Epoch 2/50: 100%|██████████| 20/20 [02:24<00:00,  7.24s/it, loss=6.63]\n",
            "Epoch 3/50: 100%|██████████| 20/20 [02:23<00:00,  7.20s/it, loss=6.62]\n",
            "Epoch 4/50: 100%|██████████| 20/20 [02:24<00:00,  7.21s/it, loss=6.61]\n",
            "Epoch 5/50: 100%|██████████| 20/20 [02:23<00:00,  7.20s/it, loss=6.56]\n",
            "Epoch 6/50: 100%|██████████| 20/20 [02:24<00:00,  7.24s/it, loss=6.64]\n",
            "Epoch 7/50: 100%|██████████| 20/20 [02:23<00:00,  7.16s/it, loss=6.54]\n",
            "Epoch 8/50: 100%|██████████| 20/20 [02:23<00:00,  7.17s/it, loss=6.54]\n",
            "Epoch 9/50: 100%|██████████| 20/20 [02:23<00:00,  7.15s/it, loss=6.58]\n",
            "Epoch 10/50: 100%|██████████| 20/20 [02:22<00:00,  7.15s/it, loss=6.58]\n",
            "Epoch 11/50: 100%|██████████| 20/20 [02:23<00:00,  7.17s/it, loss=6.56]\n"
          ]
        },
        {
          "output_type": "stream",
          "name": "stdout",
          "text": [
            "Checkpoint saved to /content/drive/MyDrive/SimCLR_UMAP/simclr_checkpoint.pth\n"
          ]
        },
        {
          "output_type": "stream",
          "name": "stderr",
          "text": [
            "Epoch 12/50: 100%|██████████| 20/20 [02:24<00:00,  7.23s/it, loss=6.54]\n",
            "Epoch 13/50: 100%|██████████| 20/20 [02:23<00:00,  7.19s/it, loss=6.58]\n",
            "Epoch 14/50: 100%|██████████| 20/20 [02:23<00:00,  7.17s/it, loss=6.49]\n",
            "Epoch 15/50: 100%|██████████| 20/20 [02:23<00:00,  7.17s/it, loss=6.51]\n",
            "Epoch 16/50: 100%|██████████| 20/20 [02:23<00:00,  7.16s/it, loss=6.58]\n",
            "Epoch 17/50: 100%|██████████| 20/20 [02:25<00:00,  7.27s/it, loss=6.53]\n",
            "Epoch 18/50: 100%|██████████| 20/20 [02:26<00:00,  7.33s/it, loss=6.49]\n",
            "Epoch 19/50: 100%|██████████| 20/20 [02:26<00:00,  7.30s/it, loss=6.6]\n",
            "Epoch 20/50: 100%|██████████| 20/20 [02:26<00:00,  7.32s/it, loss=6.58]\n",
            "Epoch 21/50: 100%|██████████| 20/20 [02:27<00:00,  7.35s/it, loss=6.47]\n"
          ]
        },
        {
          "output_type": "stream",
          "name": "stdout",
          "text": [
            "Checkpoint saved to /content/drive/MyDrive/SimCLR_UMAP/simclr_checkpoint.pth\n"
          ]
        },
        {
          "output_type": "stream",
          "name": "stderr",
          "text": [
            "Epoch 22/50: 100%|██████████| 20/20 [02:26<00:00,  7.31s/it, loss=6.52]\n",
            "Epoch 23/50: 100%|██████████| 20/20 [02:25<00:00,  7.29s/it, loss=6.4]\n",
            "Epoch 24/50: 100%|██████████| 20/20 [02:27<00:00,  7.40s/it, loss=6.51]\n",
            "Epoch 25/50: 100%|██████████| 20/20 [02:30<00:00,  7.53s/it, loss=6.53]\n",
            "Epoch 26/50: 100%|██████████| 20/20 [02:29<00:00,  7.48s/it, loss=6.47]\n",
            "Epoch 27/50: 100%|██████████| 20/20 [02:30<00:00,  7.52s/it, loss=6.46]\n",
            "Epoch 28/50: 100%|██████████| 20/20 [02:27<00:00,  7.40s/it, loss=6.5]\n",
            "Epoch 29/50: 100%|██████████| 20/20 [02:28<00:00,  7.45s/it, loss=6.45]\n",
            "Epoch 30/50: 100%|██████████| 20/20 [02:27<00:00,  7.36s/it, loss=6.54]\n",
            "Epoch 31/50: 100%|██████████| 20/20 [02:26<00:00,  7.32s/it, loss=6.44]\n"
          ]
        },
        {
          "output_type": "stream",
          "name": "stdout",
          "text": [
            "Checkpoint saved to /content/drive/MyDrive/SimCLR_UMAP/simclr_checkpoint.pth\n"
          ]
        },
        {
          "output_type": "stream",
          "name": "stderr",
          "text": [
            "Epoch 32/50: 100%|██████████| 20/20 [02:27<00:00,  7.37s/it, loss=6.4]\n",
            "Epoch 33/50: 100%|██████████| 20/20 [02:25<00:00,  7.28s/it, loss=6.44]\n",
            "Epoch 34/50: 100%|██████████| 20/20 [02:25<00:00,  7.29s/it, loss=6.52]\n",
            "Epoch 35/50: 100%|██████████| 20/20 [02:24<00:00,  7.22s/it, loss=6.41]\n",
            "Epoch 36/50: 100%|██████████| 20/20 [02:24<00:00,  7.22s/it, loss=6.44]\n",
            "Epoch 37/50: 100%|██████████| 20/20 [02:28<00:00,  7.41s/it, loss=6.31]\n",
            "Epoch 38/50: 100%|██████████| 20/20 [02:26<00:00,  7.34s/it, loss=6.44]\n",
            "Epoch 39/50: 100%|██████████| 20/20 [02:28<00:00,  7.44s/it, loss=6.44]\n",
            "Epoch 40/50: 100%|██████████| 20/20 [02:28<00:00,  7.41s/it, loss=6.5]\n",
            "Epoch 41/50: 100%|██████████| 20/20 [02:29<00:00,  7.46s/it, loss=6.39]\n"
          ]
        },
        {
          "output_type": "stream",
          "name": "stdout",
          "text": [
            "Checkpoint saved to /content/drive/MyDrive/SimCLR_UMAP/simclr_checkpoint.pth\n"
          ]
        },
        {
          "output_type": "stream",
          "name": "stderr",
          "text": [
            "Epoch 42/50: 100%|██████████| 20/20 [02:27<00:00,  7.40s/it, loss=6.34]\n",
            "Epoch 43/50: 100%|██████████| 20/20 [02:25<00:00,  7.29s/it, loss=6.37]\n",
            "Epoch 44/50: 100%|██████████| 20/20 [02:23<00:00,  7.20s/it, loss=6.44]\n",
            "Epoch 45/50: 100%|██████████| 20/20 [02:24<00:00,  7.20s/it, loss=6.46]\n",
            "Epoch 46/50: 100%|██████████| 20/20 [02:28<00:00,  7.42s/it, loss=6.37]\n",
            "Epoch 47/50: 100%|██████████| 20/20 [02:26<00:00,  7.30s/it, loss=6.4]\n",
            "Epoch 48/50: 100%|██████████| 20/20 [02:25<00:00,  7.29s/it, loss=6.35]\n",
            "Epoch 49/50: 100%|██████████| 20/20 [02:28<00:00,  7.42s/it, loss=6.37]\n",
            "Epoch 50/50: 100%|██████████| 20/20 [02:28<00:00,  7.43s/it, loss=6.37]\n"
          ]
        }
      ]
    },
    {
      "cell_type": "code",
      "execution_count": 15,
      "metadata": {
        "colab": {
          "base_uri": "https://localhost:8080/"
        },
        "id": "7vsV2zelKmTm",
        "outputId": "0874b4b9-96fb-4246-8e92-899a598c8e8c"
      },
      "outputs": [
        {
          "output_type": "stream",
          "name": "stdout",
          "text": [
            "Checkpoint saved to /content/drive/MyDrive/SimCLR_UMAP/simclr_checkpoint3.pth\n"
          ]
        }
      ],
      "source": [
        "# Do so model saving and checkpoint saving juuuuuust in case colab fucks up\n",
        "\n",
        "file_path = '/content/drive/MyDrive/SimCLR_UMAP/simclr_checkpoint3.pth'\n",
        "\n",
        "# Save the current state of the model and optimizer\n",
        "simclr_model.save_checkpoint(file_path)"
      ]
    },
    {
      "cell_type": "code",
      "execution_count": 8,
      "metadata": {
        "colab": {
          "base_uri": "https://localhost:8080/"
        },
        "id": "QTfYb2CdrTNs",
        "outputId": "4d1e16f8-2078-4a37-cb9a-1b670108fd87"
      },
      "outputs": [
        {
          "output_type": "stream",
          "name": "stdout",
          "text": [
            "Checkpoint loaded from /content/drive/MyDrive/SimCLR_UMAP/simclr_checkpoint3.pth\n"
          ]
        }
      ],
      "source": [
        "\n",
        "\n",
        "file_path = '/content/drive/MyDrive/SimCLR_UMAP/simclr_checkpoint3.pth'\n",
        "\n",
        "\n",
        "simclr_model.load_checkpoint(file_path, device)\n",
        "\n",
        "\n",
        "\n",
        "\n"
      ]
    },
    {
      "cell_type": "code",
      "execution_count": 9,
      "metadata": {
        "id": "rNRjczCFXMWh"
      },
      "outputs": [],
      "source": [
        "import numpy as np\n",
        "import matplotlib.pyplot as plt\n",
        "from sklearn.metrics.pairwise import euclidean_distances\n",
        "from scipy import optimize\n",
        "from sklearn.manifold import SpectralEmbedding\n",
        "\n",
        "class UMAPRepresentation:\n",
        "    def __init__(self, features, n_neighbors=15, min_dist=0.5, n_components=2, learning_rate=1, max_iter=200):\n",
        "        self.features = features\n",
        "        self.n_neighbors = n_neighbors\n",
        "        self.min_dist = min_dist\n",
        "        self.n_components = n_components\n",
        "        self.learning_rate = learning_rate\n",
        "        self.max_iter = max_iter\n",
        "        self.calculate_distances()\n",
        "        self.initialize_spectral_embedding()\n",
        "        self.calculate_probabilities()\n",
        "\n",
        "    def calculate_distances(self):\n",
        "        self.distances = np.square(euclidean_distances(self.features, self.features))\n",
        "        self.rho = [sorted(self.distances[i])[1] for i in range(self.distances.shape[0])]\n",
        "\n",
        "    def initialize_spectral_embedding(self):\n",
        "        model = SpectralEmbedding(n_components=self.n_components, n_neighbors=50)\n",
        "        self.specembed = model.fit_transform(self.features)\n",
        "\n",
        "\n",
        "    def plot_initial_embedding(self):\n",
        "        plt.figure(figsize=(5, 5))\n",
        "        plt.scatter(self.specembed[:, 0], self.specembed[:, 1], c=self.Y_train.astype(int), cmap='tab10', s=50)\n",
        "        plt.title('Laplacian Eigenmap', fontsize=14)\n",
        "        plt.xlabel(\"LAP1\", fontsize=12)\n",
        "        plt.ylabel(\"LAP2\", fontsize=12)\n",
        "        plt.show()\n",
        "\n",
        "    def prob_high_dim_umap(self, sigma, dist_row):\n",
        "        d = self.distances[dist_row] - self.rho[dist_row]\n",
        "        d[d < 0] = 0\n",
        "        return np.exp(-d / sigma)\n",
        "\n",
        "    def func(self, x, min_dist):\n",
        "        y = []\n",
        "        for i in range(len(x)):\n",
        "            if x[i] <= min_dist:\n",
        "                y.append(1)\n",
        "            else:\n",
        "                y.append(np.exp(-x[i] + min_dist))\n",
        "        return y\n",
        "\n",
        "    def k(self, prob):\n",
        "        return np.power(2, np.sum(prob))\n",
        "\n",
        "    def sigma_binary_search(self, k_of_sigma, fixed_k):\n",
        "        sigma_low, sigma_high = 0, 1000\n",
        "        for i in range(20):\n",
        "            sigma_mid = (sigma_low + sigma_high) / 2\n",
        "            if k_of_sigma(sigma_mid) < fixed_k:\n",
        "                sigma_low = sigma_mid\n",
        "            else:\n",
        "                sigma_high = sigma_mid\n",
        "            if np.abs(fixed_k - k_of_sigma(sigma_mid)) <= 1e-5:\n",
        "                break\n",
        "        return sigma_mid\n",
        "\n",
        "    def calculate_probabilities(self):\n",
        "        n = self.features.shape[0]\n",
        "        self.prob = np.zeros((n, n))\n",
        "        self.sigma_array = []\n",
        "        for dist_row in range(n):\n",
        "            func = lambda sigma: self.k(self.prob_high_dim_umap(sigma, dist_row))\n",
        "            bin_search_result = self.sigma_binary_search(func, self.n_neighbors)\n",
        "            self.prob[dist_row] = self.prob_high_dim_umap(bin_search_result, dist_row)\n",
        "            self.sigma_array.append(bin_search_result)\n",
        "        self.P = (self.prob + np.transpose(self.prob)) / 2\n",
        "\n",
        "    def dist_low_dim(self, x, a, b):\n",
        "        return 1 / (1 + a * x ** (2 * b))\n",
        "\n",
        "    def prob_low_dim_umap(self, Y):\n",
        "        euclid_distances = euclidean_distances(Y, Y)\n",
        "        Q = (1 + self.a * euclid_distances ** (2 * self.b))\n",
        "        return np.power(Q, -1)\n",
        "\n",
        "    def CE(self, P, Y):\n",
        "        Q = self.prob_low_dim_umap(Y)\n",
        "        CE_term1 = -P * np.log(Q + 0.01)\n",
        "        CE_term2 = - (1 - P) * np.log(1 - Q + 0.01)\n",
        "        return CE_term1 + CE_term2\n",
        "\n",
        "    def CE_gradient(self, P, Y):\n",
        "        y_diff = np.expand_dims(Y, 1) - np.expand_dims(Y, 0)\n",
        "        inv_dist = np.power((1 + self.a * euclidean_distances(Y, Y) ** (2 * self.b)), -1)\n",
        "        Q = np.dot((1 - P), np.power((1 + self.a * euclidean_distances(Y, Y) ** (2 * self.b)), -1))\n",
        "        np.fill_diagonal(Q, 0)\n",
        "        Q = Q / np.sum(Q, axis=1, keepdims=True)\n",
        "        fact = np.expand_dims(self.a * P * (1e-8 + np.square(euclidean_distances(Y, Y))) ** (self.b - 1) - Q, 2)\n",
        "        return 2 * self.b * np.sum(fact * y_diff * np.expand_dims(inv_dist, 2), axis=1)\n",
        "\n",
        "    def fit(self):\n",
        "        x = np.linspace(0, 3, 100)\n",
        "        p, _ = optimize.curve_fit(self.dist_low_dim, x, self.func(x, self.min_dist))\n",
        "        self.a, self.b = p[0], p[1]\n",
        "        np.random.seed(12345)\n",
        "        #Y = np.random.normal(loc=0, scale=1, size=(self.features.shape[0], self.n_components)) # randomized initialization\n",
        "        model = SpectralEmbedding(n_components=self.n_components, n_neighbors=50) # Laplacian initialization\n",
        "        Y = model.fit_transform(self.features)\n",
        "        self.CE_array = []\n",
        "\n",
        "        # Integrating tqdm progress bar\n",
        "        for i in tqdm(range(self.max_iter), desc=\"Fitting UMAP\"):\n",
        "            Y -= self.learning_rate * self.CE_gradient(self.P, Y)\n",
        "            CE_current = np.sum(self.CE(self.P, Y)) / 1e+5\n",
        "            self.CE_array.append(CE_current)\n",
        "\n",
        "            # Updating the progress bar with the current CE loss\n",
        "            tqdm.write(f\"Iteration {i+1}/{self.max_iter}, CE Loss: {CE_current}\")\n",
        "\n",
        "        return Y\n",
        "\n",
        "    # Optionally, you can add a method to plot the final UMAP embeddings\n",
        "    def plot_umap(self, embeddings, title='UMAP Representation'):\n",
        "        plt.scatter(embeddings[:, 0], embeddings[:, 1], s=50, cmap='tab10')\n",
        "        plt.title(title, fontsize=14)\n",
        "        plt.xlabel(\"UMAP1\", fontsize=12)\n",
        "        plt.ylabel(\"UMAP2\", fontsize=12)\n",
        "        plt.show()\n"
      ]
    },
    {
      "cell_type": "code",
      "execution_count": 10,
      "metadata": {
        "colab": {
          "base_uri": "https://localhost:8080/"
        },
        "id": "D5h9xuKrQtv2",
        "outputId": "c8aa31c9-c652-4c11-c1bc-082e3eca0b49"
      },
      "outputs": [
        {
          "output_type": "stream",
          "name": "stdout",
          "text": [
            "Files already downloaded and verified\n"
          ]
        }
      ],
      "source": [
        "from tqdm import tqdm\n",
        "from torchvision import datasets\n",
        "\n",
        "model = simclr_model.get_encoder()\n",
        "transform = transforms.Compose([transforms.ToTensor(), transforms.Normalize((0.5, 0.5, 0.5), (0.5, 0.5, 0.5))])\n",
        "testset = datasets.CIFAR10(root='./data', train=False, download=True, transform=transform)\n",
        "testloader = torch.utils.data.DataLoader(testset, batch_size=64, shuffle=False)\n",
        "\n",
        "\n",
        "def get_representations(model, dataloader, device):\n",
        "    model.eval()\n",
        "    representations = []\n",
        "    with torch.no_grad():\n",
        "        for images, _ in dataloader:  # Removed tqdm for debugging\n",
        "            images = images.to(device)\n",
        "            features = model(images)  # Directly use model as it is the encoder\n",
        "            representations.append(features.cpu().numpy())\n",
        "    return np.concatenate(representations, axis=0)\n",
        "\n",
        "# Testing the modified function\n",
        "device = torch.device('cuda' if torch.cuda.is_available() else 'cpu')\n",
        "representations = get_representations(model, testloader, device)\n"
      ]
    },
    {
      "cell_type": "code",
      "execution_count": 12,
      "metadata": {
        "colab": {
          "base_uri": "https://localhost:8080/"
        },
        "id": "8mAVmT01smz6",
        "outputId": "e94220a1-3e48-4a9f-98a9-82a1992f8f13"
      },
      "outputs": [
        {
          "output_type": "stream",
          "name": "stdout",
          "text": [
            "(10000, 1000)\n"
          ]
        }
      ],
      "source": [
        "print(representations.shape)"
      ]
    },
    {
      "cell_type": "code",
      "execution_count": null,
      "metadata": {
        "colab": {
          "background_save": true,
          "base_uri": "https://localhost:8080/"
        },
        "id": "Sc9ns0rtSOAs",
        "outputId": "65c572aa-e585-402c-fa08-b44fe2f7100a"
      },
      "outputs": [
        {
          "output_type": "stream",
          "name": "stderr",
          "text": [
            "<ipython-input-9-bdf86f53d0e4>:51: RuntimeWarning: overflow encountered in power\n",
            "  return np.power(2, np.sum(prob))\n",
            "Fitting UMAP:   0%|          | 1/200 [00:35<1:58:18, 35.67s/it]"
          ]
        },
        {
          "output_type": "stream",
          "name": "stdout",
          "text": [
            "Iteration 1/200, CE Loss: 4602.981807118203\n"
          ]
        },
        {
          "output_type": "stream",
          "name": "stderr",
          "text": [
            "Fitting UMAP:   1%|          | 2/200 [01:09<1:54:33, 34.72s/it]"
          ]
        },
        {
          "output_type": "stream",
          "name": "stdout",
          "text": [
            "Iteration 2/200, CE Loss: 4591.415876299777\n"
          ]
        },
        {
          "output_type": "stream",
          "name": "stderr",
          "text": [
            "Fitting UMAP:   2%|▏         | 3/200 [01:45<1:55:10, 35.08s/it]"
          ]
        },
        {
          "output_type": "stream",
          "name": "stdout",
          "text": [
            "Iteration 3/200, CE Loss: 4358.371576477033\n"
          ]
        },
        {
          "output_type": "stream",
          "name": "stderr",
          "text": [
            "Fitting UMAP:   2%|▏         | 4/200 [02:20<1:54:22, 35.01s/it]"
          ]
        },
        {
          "output_type": "stream",
          "name": "stdout",
          "text": [
            "Iteration 4/200, CE Loss: 3069.418462232056\n"
          ]
        },
        {
          "output_type": "stream",
          "name": "stderr",
          "text": [
            "Fitting UMAP:   2%|▎         | 5/200 [02:55<1:54:03, 35.10s/it]"
          ]
        },
        {
          "output_type": "stream",
          "name": "stdout",
          "text": [
            "Iteration 5/200, CE Loss: 1312.7768705117364\n"
          ]
        },
        {
          "output_type": "stream",
          "name": "stderr",
          "text": [
            "Fitting UMAP:   3%|▎         | 6/200 [03:31<1:54:06, 35.29s/it]"
          ]
        },
        {
          "output_type": "stream",
          "name": "stdout",
          "text": [
            "Iteration 6/200, CE Loss: 637.4388290040908\n"
          ]
        },
        {
          "output_type": "stream",
          "name": "stderr",
          "text": [
            "Fitting UMAP:   4%|▎         | 7/200 [04:05<1:52:23, 34.94s/it]"
          ]
        },
        {
          "output_type": "stream",
          "name": "stdout",
          "text": [
            "Iteration 7/200, CE Loss: 460.7260175670912\n"
          ]
        },
        {
          "output_type": "stream",
          "name": "stderr",
          "text": [
            "Fitting UMAP:   4%|▍         | 8/200 [04:41<1:52:36, 35.19s/it]"
          ]
        },
        {
          "output_type": "stream",
          "name": "stdout",
          "text": [
            "Iteration 8/200, CE Loss: 373.91624861773835\n"
          ]
        },
        {
          "output_type": "stream",
          "name": "stderr",
          "text": [
            "Fitting UMAP:   4%|▍         | 9/200 [05:15<1:51:08, 34.91s/it]"
          ]
        },
        {
          "output_type": "stream",
          "name": "stdout",
          "text": [
            "Iteration 9/200, CE Loss: 307.66937250433665\n"
          ]
        },
        {
          "output_type": "stream",
          "name": "stderr",
          "text": [
            "Fitting UMAP:   5%|▌         | 10/200 [05:50<1:51:02, 35.06s/it]"
          ]
        },
        {
          "output_type": "stream",
          "name": "stdout",
          "text": [
            "Iteration 10/200, CE Loss: 257.7870663451329\n"
          ]
        },
        {
          "output_type": "stream",
          "name": "stderr",
          "text": [
            "Fitting UMAP:   6%|▌         | 11/200 [06:25<1:50:40, 35.13s/it]"
          ]
        },
        {
          "output_type": "stream",
          "name": "stdout",
          "text": [
            "Iteration 11/200, CE Loss: 229.5498415722989\n"
          ]
        },
        {
          "output_type": "stream",
          "name": "stderr",
          "text": [
            "Fitting UMAP:   6%|▌         | 12/200 [07:00<1:49:44, 35.02s/it]"
          ]
        },
        {
          "output_type": "stream",
          "name": "stdout",
          "text": [
            "Iteration 12/200, CE Loss: 204.4592538953846\n"
          ]
        },
        {
          "output_type": "stream",
          "name": "stderr",
          "text": [
            "Fitting UMAP:   6%|▋         | 13/200 [07:36<1:49:46, 35.22s/it]"
          ]
        },
        {
          "output_type": "stream",
          "name": "stdout",
          "text": [
            "Iteration 13/200, CE Loss: 189.57204718740252\n"
          ]
        },
        {
          "output_type": "stream",
          "name": "stderr",
          "text": [
            "Fitting UMAP:   7%|▋         | 14/200 [08:10<1:48:10, 34.89s/it]"
          ]
        },
        {
          "output_type": "stream",
          "name": "stdout",
          "text": [
            "Iteration 14/200, CE Loss: 175.97358295559943\n"
          ]
        },
        {
          "output_type": "stream",
          "name": "stderr",
          "text": [
            "Fitting UMAP:   8%|▊         | 15/200 [08:46<1:48:22, 35.15s/it]"
          ]
        },
        {
          "output_type": "stream",
          "name": "stdout",
          "text": [
            "Iteration 15/200, CE Loss: 167.7735218245653\n"
          ]
        },
        {
          "output_type": "stream",
          "name": "stderr",
          "text": [
            "Fitting UMAP:   8%|▊         | 16/200 [09:21<1:47:30, 35.06s/it]"
          ]
        },
        {
          "output_type": "stream",
          "name": "stdout",
          "text": [
            "Iteration 16/200, CE Loss: 159.02077122006693\n"
          ]
        },
        {
          "output_type": "stream",
          "name": "stderr",
          "text": [
            "Fitting UMAP:   8%|▊         | 17/200 [09:57<1:47:54, 35.38s/it]"
          ]
        },
        {
          "output_type": "stream",
          "name": "stdout",
          "text": [
            "Iteration 17/200, CE Loss: 154.3935355047844\n"
          ]
        },
        {
          "output_type": "stream",
          "name": "stderr",
          "text": [
            "Fitting UMAP:   9%|▉         | 18/200 [10:32<1:47:26, 35.42s/it]"
          ]
        },
        {
          "output_type": "stream",
          "name": "stdout",
          "text": [
            "Iteration 18/200, CE Loss: 148.2892864624364\n"
          ]
        },
        {
          "output_type": "stream",
          "name": "stderr",
          "text": [
            "Fitting UMAP:  10%|▉         | 19/200 [11:06<1:45:39, 35.03s/it]"
          ]
        },
        {
          "output_type": "stream",
          "name": "stdout",
          "text": [
            "Iteration 19/200, CE Loss: 144.44309303085473\n"
          ]
        },
        {
          "output_type": "stream",
          "name": "stderr",
          "text": [
            "Fitting UMAP:  10%|█         | 20/200 [11:42<1:45:37, 35.21s/it]"
          ]
        },
        {
          "output_type": "stream",
          "name": "stdout",
          "text": [
            "Iteration 20/200, CE Loss: 140.17689987760315\n"
          ]
        },
        {
          "output_type": "stream",
          "name": "stderr",
          "text": [
            "Fitting UMAP:  10%|█         | 21/200 [12:16<1:44:10, 34.92s/it]"
          ]
        },
        {
          "output_type": "stream",
          "name": "stdout",
          "text": [
            "Iteration 21/200, CE Loss: 137.3415997927709\n"
          ]
        },
        {
          "output_type": "stream",
          "name": "stderr",
          "text": [
            "Fitting UMAP:  11%|█         | 22/200 [12:52<1:43:58, 35.05s/it]"
          ]
        },
        {
          "output_type": "stream",
          "name": "stdout",
          "text": [
            "Iteration 22/200, CE Loss: 133.83930042145533\n"
          ]
        },
        {
          "output_type": "stream",
          "name": "stderr",
          "text": [
            "Fitting UMAP:  12%|█▏        | 23/200 [13:27<1:43:32, 35.10s/it]"
          ]
        },
        {
          "output_type": "stream",
          "name": "stdout",
          "text": [
            "Iteration 23/200, CE Loss: 132.23619923440128\n"
          ]
        },
        {
          "output_type": "stream",
          "name": "stderr",
          "text": [
            "Fitting UMAP:  12%|█▏        | 24/200 [14:02<1:42:35, 34.98s/it]"
          ]
        },
        {
          "output_type": "stream",
          "name": "stdout",
          "text": [
            "Iteration 24/200, CE Loss: 129.3309512611054\n"
          ]
        },
        {
          "output_type": "stream",
          "name": "stderr",
          "text": [
            "Fitting UMAP:  12%|█▎        | 25/200 [14:37<1:42:24, 35.11s/it]"
          ]
        },
        {
          "output_type": "stream",
          "name": "stdout",
          "text": [
            "Iteration 25/200, CE Loss: 127.94206771077855\n"
          ]
        },
        {
          "output_type": "stream",
          "name": "stderr",
          "text": [
            "Fitting UMAP:  13%|█▎        | 26/200 [15:11<1:40:41, 34.72s/it]"
          ]
        },
        {
          "output_type": "stream",
          "name": "stdout",
          "text": [
            "Iteration 26/200, CE Loss: 125.33544841268143\n"
          ]
        },
        {
          "output_type": "stream",
          "name": "stderr",
          "text": [
            "Fitting UMAP:  14%|█▎        | 27/200 [15:46<1:40:51, 34.98s/it]"
          ]
        },
        {
          "output_type": "stream",
          "name": "stdout",
          "text": [
            "Iteration 27/200, CE Loss: 124.64956843631622\n"
          ]
        },
        {
          "output_type": "stream",
          "name": "stderr",
          "text": [
            "Fitting UMAP:  14%|█▍        | 28/200 [16:20<1:39:31, 34.72s/it]"
          ]
        },
        {
          "output_type": "stream",
          "name": "stdout",
          "text": [
            "Iteration 28/200, CE Loss: 121.97732495085934\n"
          ]
        },
        {
          "output_type": "stream",
          "name": "stderr",
          "text": [
            "Fitting UMAP:  14%|█▍        | 29/200 [16:56<1:39:24, 34.88s/it]"
          ]
        },
        {
          "output_type": "stream",
          "name": "stdout",
          "text": [
            "Iteration 29/200, CE Loss: 121.73673264923096\n"
          ]
        },
        {
          "output_type": "stream",
          "name": "stderr",
          "text": [
            "Fitting UMAP:  15%|█▌        | 30/200 [17:31<1:38:56, 34.92s/it]"
          ]
        },
        {
          "output_type": "stream",
          "name": "stdout",
          "text": [
            "Iteration 30/200, CE Loss: 119.77454465648287\n"
          ]
        },
        {
          "output_type": "stream",
          "name": "stderr",
          "text": [
            "Fitting UMAP:  16%|█▌        | 31/200 [18:05<1:38:07, 34.84s/it]"
          ]
        },
        {
          "output_type": "stream",
          "name": "stdout",
          "text": [
            "Iteration 31/200, CE Loss: 119.11796470542498\n"
          ]
        },
        {
          "output_type": "stream",
          "name": "stderr",
          "text": [
            "Fitting UMAP:  16%|█▌        | 32/200 [18:41<1:38:09, 35.06s/it]"
          ]
        },
        {
          "output_type": "stream",
          "name": "stdout",
          "text": [
            "Iteration 32/200, CE Loss: 117.37319566618679\n"
          ]
        },
        {
          "output_type": "stream",
          "name": "stderr",
          "text": [
            "Fitting UMAP:  16%|█▋        | 33/200 [19:15<1:36:36, 34.71s/it]"
          ]
        },
        {
          "output_type": "stream",
          "name": "stdout",
          "text": [
            "Iteration 33/200, CE Loss: 116.96764469383949\n"
          ]
        },
        {
          "output_type": "stream",
          "name": "stderr",
          "text": [
            "Fitting UMAP:  17%|█▋        | 34/200 [19:51<1:36:56, 35.04s/it]"
          ]
        },
        {
          "output_type": "stream",
          "name": "stdout",
          "text": [
            "Iteration 34/200, CE Loss: 115.59514989677264\n"
          ]
        },
        {
          "output_type": "stream",
          "name": "stderr",
          "text": [
            "Fitting UMAP:  18%|█▊        | 35/200 [20:25<1:35:50, 34.85s/it]"
          ]
        },
        {
          "output_type": "stream",
          "name": "stdout",
          "text": [
            "Iteration 35/200, CE Loss: 114.99021886107896\n"
          ]
        },
        {
          "output_type": "stream",
          "name": "stderr",
          "text": [
            "Fitting UMAP:  18%|█▊        | 36/200 [21:00<1:35:40, 35.00s/it]"
          ]
        },
        {
          "output_type": "stream",
          "name": "stdout",
          "text": [
            "Iteration 36/200, CE Loss: 113.82586155121058\n"
          ]
        },
        {
          "output_type": "stream",
          "name": "stderr",
          "text": [
            "Fitting UMAP:  18%|█▊        | 37/200 [21:36<1:35:15, 35.07s/it]"
          ]
        },
        {
          "output_type": "stream",
          "name": "stdout",
          "text": [
            "Iteration 37/200, CE Loss: 113.34527624874696\n"
          ]
        },
        {
          "output_type": "stream",
          "name": "stderr",
          "text": [
            "Fitting UMAP:  19%|█▉        | 38/200 [22:10<1:34:02, 34.83s/it]"
          ]
        },
        {
          "output_type": "stream",
          "name": "stdout",
          "text": [
            "Iteration 38/200, CE Loss: 112.47295680169701\n"
          ]
        },
        {
          "output_type": "stream",
          "name": "stderr",
          "text": [
            "Fitting UMAP:  20%|█▉        | 39/200 [22:46<1:34:08, 35.09s/it]"
          ]
        },
        {
          "output_type": "stream",
          "name": "stdout",
          "text": [
            "Iteration 39/200, CE Loss: 111.95033776710258\n"
          ]
        },
        {
          "output_type": "stream",
          "name": "stderr",
          "text": [
            "Fitting UMAP:  20%|██        | 40/200 [23:20<1:32:51, 34.82s/it]"
          ]
        },
        {
          "output_type": "stream",
          "name": "stdout",
          "text": [
            "Iteration 40/200, CE Loss: 111.36014764644517\n"
          ]
        },
        {
          "output_type": "stream",
          "name": "stderr",
          "text": [
            "Fitting UMAP:  20%|██        | 41/200 [23:57<1:34:09, 35.53s/it]"
          ]
        },
        {
          "output_type": "stream",
          "name": "stdout",
          "text": [
            "Iteration 41/200, CE Loss: 110.54812829404322\n"
          ]
        },
        {
          "output_type": "stream",
          "name": "stderr",
          "text": [
            "Fitting UMAP:  21%|██        | 42/200 [24:32<1:33:27, 35.49s/it]"
          ]
        },
        {
          "output_type": "stream",
          "name": "stdout",
          "text": [
            "Iteration 42/200, CE Loss: 110.32641120776988\n"
          ]
        },
        {
          "output_type": "stream",
          "name": "stderr",
          "text": [
            "Fitting UMAP:  22%|██▏       | 43/200 [25:07<1:32:01, 35.17s/it]"
          ]
        },
        {
          "output_type": "stream",
          "name": "stdout",
          "text": [
            "Iteration 43/200, CE Loss: 109.57558260294327\n"
          ]
        },
        {
          "output_type": "stream",
          "name": "stderr",
          "text": [
            "Fitting UMAP:  22%|██▏       | 44/200 [25:42<1:31:38, 35.25s/it]"
          ]
        },
        {
          "output_type": "stream",
          "name": "stdout",
          "text": [
            "Iteration 44/200, CE Loss: 109.24670748282628\n"
          ]
        },
        {
          "output_type": "stream",
          "name": "stderr",
          "text": [
            "Fitting UMAP:  22%|██▎       | 45/200 [26:16<1:30:02, 34.86s/it]"
          ]
        },
        {
          "output_type": "stream",
          "name": "stdout",
          "text": [
            "Iteration 45/200, CE Loss: 108.3159340676683\n"
          ]
        },
        {
          "output_type": "stream",
          "name": "stderr",
          "text": [
            "Fitting UMAP:  23%|██▎       | 46/200 [26:52<1:29:54, 35.03s/it]"
          ]
        },
        {
          "output_type": "stream",
          "name": "stdout",
          "text": [
            "Iteration 46/200, CE Loss: 108.27972316626962\n"
          ]
        },
        {
          "output_type": "stream",
          "name": "stderr",
          "text": [
            "Fitting UMAP:  24%|██▎       | 47/200 [27:26<1:29:02, 34.92s/it]"
          ]
        },
        {
          "output_type": "stream",
          "name": "stdout",
          "text": [
            "Iteration 47/200, CE Loss: 107.67202917741672\n"
          ]
        },
        {
          "output_type": "stream",
          "name": "stderr",
          "text": [
            "Fitting UMAP:  24%|██▍       | 48/200 [28:02<1:28:42, 35.02s/it]"
          ]
        },
        {
          "output_type": "stream",
          "name": "stdout",
          "text": [
            "Iteration 48/200, CE Loss: 107.46292778000937\n"
          ]
        },
        {
          "output_type": "stream",
          "name": "stderr",
          "text": [
            "Fitting UMAP:  24%|██▍       | 49/200 [28:37<1:28:24, 35.13s/it]"
          ]
        },
        {
          "output_type": "stream",
          "name": "stdout",
          "text": [
            "Iteration 49/200, CE Loss: 107.38944048507227\n"
          ]
        },
        {
          "output_type": "stream",
          "name": "stderr",
          "text": [
            "Fitting UMAP:  25%|██▌       | 50/200 [29:11<1:27:00, 34.80s/it]"
          ]
        },
        {
          "output_type": "stream",
          "name": "stdout",
          "text": [
            "Iteration 50/200, CE Loss: 106.4741594854296\n"
          ]
        },
        {
          "output_type": "stream",
          "name": "stderr",
          "text": [
            "Fitting UMAP:  26%|██▌       | 51/200 [29:47<1:27:00, 35.04s/it]"
          ]
        },
        {
          "output_type": "stream",
          "name": "stdout",
          "text": [
            "Iteration 51/200, CE Loss: 106.54523220180072\n"
          ]
        },
        {
          "output_type": "stream",
          "name": "stderr",
          "text": [
            "Fitting UMAP:  26%|██▌       | 52/200 [30:22<1:26:38, 35.13s/it]"
          ]
        },
        {
          "output_type": "stream",
          "name": "stdout",
          "text": [
            "Iteration 52/200, CE Loss: 105.98573353089435\n"
          ]
        },
        {
          "output_type": "stream",
          "name": "stderr",
          "text": [
            "Fitting UMAP:  26%|██▋       | 53/200 [30:57<1:26:19, 35.24s/it]"
          ]
        },
        {
          "output_type": "stream",
          "name": "stdout",
          "text": [
            "Iteration 53/200, CE Loss: 105.88456039696177\n"
          ]
        },
        {
          "output_type": "stream",
          "name": "stderr",
          "text": [
            "Fitting UMAP:  27%|██▋       | 54/200 [31:32<1:25:35, 35.18s/it]"
          ]
        },
        {
          "output_type": "stream",
          "name": "stdout",
          "text": [
            "Iteration 54/200, CE Loss: 105.32438755099868\n"
          ]
        },
        {
          "output_type": "stream",
          "name": "stderr",
          "text": [
            "Fitting UMAP:  28%|██▊       | 55/200 [32:07<1:24:41, 35.04s/it]"
          ]
        },
        {
          "output_type": "stream",
          "name": "stdout",
          "text": [
            "Iteration 55/200, CE Loss: 105.2605000915731\n"
          ]
        },
        {
          "output_type": "stream",
          "name": "stderr",
          "text": [
            "Fitting UMAP:  28%|██▊       | 56/200 [32:43<1:24:19, 35.14s/it]"
          ]
        },
        {
          "output_type": "stream",
          "name": "stdout",
          "text": [
            "Iteration 56/200, CE Loss: 105.09892737252247\n"
          ]
        },
        {
          "output_type": "stream",
          "name": "stderr",
          "text": [
            "Fitting UMAP:  28%|██▊       | 57/200 [33:16<1:22:53, 34.78s/it]"
          ]
        },
        {
          "output_type": "stream",
          "name": "stdout",
          "text": [
            "Iteration 57/200, CE Loss: 104.80188037314245\n"
          ]
        },
        {
          "output_type": "stream",
          "name": "stderr",
          "text": [
            "Fitting UMAP:  29%|██▉       | 58/200 [33:52<1:22:52, 35.02s/it]"
          ]
        },
        {
          "output_type": "stream",
          "name": "stdout",
          "text": [
            "Iteration 58/200, CE Loss: 104.651351906733\n"
          ]
        },
        {
          "output_type": "stream",
          "name": "stderr",
          "text": [
            "Fitting UMAP:  30%|██▉       | 59/200 [34:27<1:22:01, 34.90s/it]"
          ]
        },
        {
          "output_type": "stream",
          "name": "stdout",
          "text": [
            "Iteration 59/200, CE Loss: 104.33993553536978\n"
          ]
        },
        {
          "output_type": "stream",
          "name": "stderr",
          "text": [
            "Fitting UMAP:  30%|███       | 60/200 [35:02<1:21:49, 35.07s/it]"
          ]
        },
        {
          "output_type": "stream",
          "name": "stdout",
          "text": [
            "Iteration 60/200, CE Loss: 104.10217408223654\n"
          ]
        },
        {
          "output_type": "stream",
          "name": "stderr",
          "text": [
            "Fitting UMAP:  30%|███       | 61/200 [35:38<1:21:29, 35.17s/it]"
          ]
        },
        {
          "output_type": "stream",
          "name": "stdout",
          "text": [
            "Iteration 61/200, CE Loss: 103.80933193421151\n"
          ]
        },
        {
          "output_type": "stream",
          "name": "stderr",
          "text": [
            "Fitting UMAP:  31%|███       | 62/200 [36:12<1:20:13, 34.88s/it]"
          ]
        },
        {
          "output_type": "stream",
          "name": "stdout",
          "text": [
            "Iteration 62/200, CE Loss: 103.7607458621973\n"
          ]
        },
        {
          "output_type": "stream",
          "name": "stderr",
          "text": [
            "Fitting UMAP:  32%|███▏      | 63/200 [36:47<1:20:02, 35.05s/it]"
          ]
        },
        {
          "output_type": "stream",
          "name": "stdout",
          "text": [
            "Iteration 63/200, CE Loss: 103.2534982752778\n"
          ]
        },
        {
          "output_type": "stream",
          "name": "stderr",
          "text": [
            "Fitting UMAP:  32%|███▏      | 64/200 [37:21<1:18:39, 34.70s/it]"
          ]
        },
        {
          "output_type": "stream",
          "name": "stdout",
          "text": [
            "Iteration 64/200, CE Loss: 103.52676376221294\n"
          ]
        },
        {
          "output_type": "stream",
          "name": "stderr",
          "text": [
            "Fitting UMAP:  32%|███▎      | 65/200 [37:56<1:18:32, 34.90s/it]"
          ]
        },
        {
          "output_type": "stream",
          "name": "stdout",
          "text": [
            "Iteration 65/200, CE Loss: 102.90799420851236\n"
          ]
        },
        {
          "output_type": "stream",
          "name": "stderr",
          "text": [
            "Fitting UMAP:  33%|███▎      | 66/200 [38:31<1:17:47, 34.84s/it]"
          ]
        },
        {
          "output_type": "stream",
          "name": "stdout",
          "text": [
            "Iteration 66/200, CE Loss: 103.01385537156573\n"
          ]
        },
        {
          "output_type": "stream",
          "name": "stderr",
          "text": [
            "Fitting UMAP:  34%|███▎      | 67/200 [39:06<1:17:27, 34.94s/it]"
          ]
        },
        {
          "output_type": "stream",
          "name": "stdout",
          "text": [
            "Iteration 67/200, CE Loss: 102.90145592325455\n"
          ]
        },
        {
          "output_type": "stream",
          "name": "stderr",
          "text": [
            "Fitting UMAP:  34%|███▍      | 68/200 [39:42<1:17:19, 35.15s/it]"
          ]
        },
        {
          "output_type": "stream",
          "name": "stdout",
          "text": [
            "Iteration 68/200, CE Loss: 102.61345472242462\n"
          ]
        },
        {
          "output_type": "stream",
          "name": "stderr",
          "text": [
            "Fitting UMAP:  34%|███▍      | 69/200 [40:16<1:16:08, 34.87s/it]"
          ]
        },
        {
          "output_type": "stream",
          "name": "stdout",
          "text": [
            "Iteration 69/200, CE Loss: 102.61627860136062\n"
          ]
        },
        {
          "output_type": "stream",
          "name": "stderr",
          "text": [
            "Fitting UMAP:  35%|███▌      | 70/200 [40:51<1:15:48, 34.99s/it]"
          ]
        },
        {
          "output_type": "stream",
          "name": "stdout",
          "text": [
            "Iteration 70/200, CE Loss: 102.21691295091945\n"
          ]
        },
        {
          "output_type": "stream",
          "name": "stderr",
          "text": [
            "Fitting UMAP:  36%|███▌      | 71/200 [41:25<1:14:38, 34.71s/it]"
          ]
        },
        {
          "output_type": "stream",
          "name": "stdout",
          "text": [
            "Iteration 71/200, CE Loss: 102.25529405367679\n"
          ]
        },
        {
          "output_type": "stream",
          "name": "stderr",
          "text": [
            "Fitting UMAP:  36%|███▌      | 72/200 [42:01<1:14:33, 34.95s/it]"
          ]
        },
        {
          "output_type": "stream",
          "name": "stdout",
          "text": [
            "Iteration 72/200, CE Loss: 102.17023800109925\n"
          ]
        },
        {
          "output_type": "stream",
          "name": "stderr",
          "text": [
            "Fitting UMAP:  36%|███▋      | 73/200 [42:36<1:13:45, 34.84s/it]"
          ]
        },
        {
          "output_type": "stream",
          "name": "stdout",
          "text": [
            "Iteration 73/200, CE Loss: 101.97660972930284\n"
          ]
        },
        {
          "output_type": "stream",
          "name": "stderr",
          "text": [
            "Fitting UMAP:  37%|███▋      | 74/200 [43:11<1:13:22, 34.94s/it]"
          ]
        },
        {
          "output_type": "stream",
          "name": "stdout",
          "text": [
            "Iteration 74/200, CE Loss: 101.74438575293405\n"
          ]
        },
        {
          "output_type": "stream",
          "name": "stderr",
          "text": [
            "Fitting UMAP:  38%|███▊      | 75/200 [43:46<1:13:02, 35.06s/it]"
          ]
        },
        {
          "output_type": "stream",
          "name": "stdout",
          "text": [
            "Iteration 75/200, CE Loss: 101.90642016518072\n"
          ]
        },
        {
          "output_type": "stream",
          "name": "stderr",
          "text": [
            "Fitting UMAP:  38%|███▊      | 76/200 [44:20<1:11:54, 34.79s/it]"
          ]
        },
        {
          "output_type": "stream",
          "name": "stdout",
          "text": [
            "Iteration 76/200, CE Loss: 101.39811978523528\n"
          ]
        },
        {
          "output_type": "stream",
          "name": "stderr",
          "text": [
            "Fitting UMAP:  38%|███▊      | 77/200 [44:56<1:11:48, 35.03s/it]"
          ]
        },
        {
          "output_type": "stream",
          "name": "stdout",
          "text": [
            "Iteration 77/200, CE Loss: 101.66814829484768\n"
          ]
        },
        {
          "output_type": "stream",
          "name": "stderr",
          "text": [
            "Fitting UMAP:  39%|███▉      | 78/200 [45:30<1:10:37, 34.74s/it]"
          ]
        },
        {
          "output_type": "stream",
          "name": "stdout",
          "text": [
            "Iteration 78/200, CE Loss: 101.09942899567208\n"
          ]
        },
        {
          "output_type": "stream",
          "name": "stderr",
          "text": [
            "Fitting UMAP:  40%|███▉      | 79/200 [46:05<1:10:30, 34.96s/it]"
          ]
        },
        {
          "output_type": "stream",
          "name": "stdout",
          "text": [
            "Iteration 79/200, CE Loss: 101.38293329184543\n"
          ]
        },
        {
          "output_type": "stream",
          "name": "stderr",
          "text": [
            "Fitting UMAP:  40%|████      | 80/200 [46:40<1:09:53, 34.94s/it]"
          ]
        },
        {
          "output_type": "stream",
          "name": "stdout",
          "text": [
            "Iteration 80/200, CE Loss: 100.92510090794826\n"
          ]
        },
        {
          "output_type": "stream",
          "name": "stderr",
          "text": [
            "Fitting UMAP:  40%|████      | 81/200 [47:15<1:09:11, 34.89s/it]"
          ]
        },
        {
          "output_type": "stream",
          "name": "stdout",
          "text": [
            "Iteration 81/200, CE Loss: 101.11658958629822\n"
          ]
        },
        {
          "output_type": "stream",
          "name": "stderr",
          "text": [
            "Fitting UMAP:  41%|████      | 82/200 [47:51<1:08:57, 35.06s/it]"
          ]
        },
        {
          "output_type": "stream",
          "name": "stdout",
          "text": [
            "Iteration 82/200, CE Loss: 100.78956288134489\n"
          ]
        },
        {
          "output_type": "stream",
          "name": "stderr",
          "text": [
            "Fitting UMAP:  42%|████▏     | 83/200 [48:25<1:07:56, 34.84s/it]"
          ]
        },
        {
          "output_type": "stream",
          "name": "stdout",
          "text": [
            "Iteration 83/200, CE Loss: 100.70800653098276\n"
          ]
        },
        {
          "output_type": "stream",
          "name": "stderr",
          "text": [
            "Fitting UMAP:  42%|████▏     | 84/200 [49:00<1:07:42, 35.02s/it]"
          ]
        },
        {
          "output_type": "stream",
          "name": "stdout",
          "text": [
            "Iteration 84/200, CE Loss: 100.51756063811116\n"
          ]
        },
        {
          "output_type": "stream",
          "name": "stderr",
          "text": [
            "Fitting UMAP:  42%|████▎     | 85/200 [49:34<1:06:37, 34.76s/it]"
          ]
        },
        {
          "output_type": "stream",
          "name": "stdout",
          "text": [
            "Iteration 85/200, CE Loss: 100.74658400239237\n"
          ]
        },
        {
          "output_type": "stream",
          "name": "stderr",
          "text": [
            "Fitting UMAP:  43%|████▎     | 86/200 [50:10<1:06:28, 34.98s/it]"
          ]
        },
        {
          "output_type": "stream",
          "name": "stdout",
          "text": [
            "Iteration 86/200, CE Loss: 100.11602937795654\n"
          ]
        },
        {
          "output_type": "stream",
          "name": "stderr",
          "text": [
            "Fitting UMAP:  44%|████▎     | 87/200 [50:45<1:05:53, 34.98s/it]"
          ]
        },
        {
          "output_type": "stream",
          "name": "stdout",
          "text": [
            "Iteration 87/200, CE Loss: 100.36309987201851\n"
          ]
        },
        {
          "output_type": "stream",
          "name": "stderr",
          "text": [
            "Fitting UMAP:  44%|████▍     | 88/200 [51:20<1:05:24, 35.04s/it]"
          ]
        },
        {
          "output_type": "stream",
          "name": "stdout",
          "text": [
            "Iteration 88/200, CE Loss: 99.84975332530344\n"
          ]
        },
        {
          "output_type": "stream",
          "name": "stderr",
          "text": [
            "Fitting UMAP:  44%|████▍     | 89/200 [51:55<1:04:58, 35.12s/it]"
          ]
        },
        {
          "output_type": "stream",
          "name": "stdout",
          "text": [
            "Iteration 89/200, CE Loss: 100.43389411300494\n"
          ]
        },
        {
          "output_type": "stream",
          "name": "stderr",
          "text": [
            "Fitting UMAP:  45%|████▌     | 90/200 [52:30<1:03:50, 34.82s/it]"
          ]
        },
        {
          "output_type": "stream",
          "name": "stdout",
          "text": [
            "Iteration 90/200, CE Loss: 99.55732252615255\n"
          ]
        },
        {
          "output_type": "stream",
          "name": "stderr",
          "text": [
            "Fitting UMAP:  46%|████▌     | 91/200 [53:05<1:03:46, 35.11s/it]"
          ]
        },
        {
          "output_type": "stream",
          "name": "stdout",
          "text": [
            "Iteration 91/200, CE Loss: 100.00018965385789\n"
          ]
        },
        {
          "output_type": "stream",
          "name": "stderr",
          "text": [
            "Fitting UMAP:  46%|████▌     | 92/200 [53:39<1:02:40, 34.82s/it]"
          ]
        },
        {
          "output_type": "stream",
          "name": "stdout",
          "text": [
            "Iteration 92/200, CE Loss: 99.35112438982593\n"
          ]
        },
        {
          "output_type": "stream",
          "name": "stderr",
          "text": [
            "Fitting UMAP:  46%|████▋     | 93/200 [54:15<1:02:28, 35.04s/it]"
          ]
        },
        {
          "output_type": "stream",
          "name": "stdout",
          "text": [
            "Iteration 93/200, CE Loss: 99.92505313582639\n"
          ]
        },
        {
          "output_type": "stream",
          "name": "stderr",
          "text": [
            "Fitting UMAP:  47%|████▋     | 94/200 [54:50<1:01:41, 34.92s/it]"
          ]
        },
        {
          "output_type": "stream",
          "name": "stdout",
          "text": [
            "Iteration 94/200, CE Loss: 99.15022808358677\n"
          ]
        },
        {
          "output_type": "stream",
          "name": "stderr",
          "text": [
            "Fitting UMAP:  48%|████▊     | 95/200 [55:25<1:01:05, 34.91s/it]"
          ]
        },
        {
          "output_type": "stream",
          "name": "stdout",
          "text": [
            "Iteration 95/200, CE Loss: 99.55226298676392\n"
          ]
        },
        {
          "output_type": "stream",
          "name": "stderr",
          "text": [
            "Fitting UMAP:  48%|████▊     | 96/200 [56:00<1:00:39, 34.99s/it]"
          ]
        },
        {
          "output_type": "stream",
          "name": "stdout",
          "text": [
            "Iteration 96/200, CE Loss: 99.1449590293032\n"
          ]
        },
        {
          "output_type": "stream",
          "name": "stderr",
          "text": [
            "Fitting UMAP:  48%|████▊     | 97/200 [56:34<59:36, 34.72s/it]  "
          ]
        },
        {
          "output_type": "stream",
          "name": "stdout",
          "text": [
            "Iteration 97/200, CE Loss: 99.36092046156794\n"
          ]
        },
        {
          "output_type": "stream",
          "name": "stderr",
          "text": [
            "Fitting UMAP:  49%|████▉     | 98/200 [57:09<59:21, 34.92s/it]"
          ]
        },
        {
          "output_type": "stream",
          "name": "stdout",
          "text": [
            "Iteration 98/200, CE Loss: 98.72523239766505\n"
          ]
        },
        {
          "output_type": "stream",
          "name": "stderr",
          "text": [
            "Fitting UMAP:  50%|████▉     | 99/200 [57:43<58:18, 34.64s/it]"
          ]
        },
        {
          "output_type": "stream",
          "name": "stdout",
          "text": [
            "Iteration 99/200, CE Loss: 99.21739608780506\n"
          ]
        },
        {
          "output_type": "stream",
          "name": "stderr",
          "text": [
            "Fitting UMAP:  50%|█████     | 100/200 [58:19<58:09, 34.90s/it]"
          ]
        },
        {
          "output_type": "stream",
          "name": "stdout",
          "text": [
            "Iteration 100/200, CE Loss: 98.69238101743485\n"
          ]
        },
        {
          "output_type": "stream",
          "name": "stderr",
          "text": [
            "Fitting UMAP:  50%|█████     | 101/200 [58:53<57:23, 34.78s/it]"
          ]
        },
        {
          "output_type": "stream",
          "name": "stdout",
          "text": [
            "Iteration 101/200, CE Loss: 98.86900952112968\n"
          ]
        },
        {
          "output_type": "stream",
          "name": "stderr",
          "text": [
            "Fitting UMAP:  51%|█████     | 102/200 [59:28<56:54, 34.85s/it]"
          ]
        },
        {
          "output_type": "stream",
          "name": "stdout",
          "text": [
            "Iteration 102/200, CE Loss: 98.6140837133244\n"
          ]
        },
        {
          "output_type": "stream",
          "name": "stderr",
          "text": [
            "Fitting UMAP:  52%|█████▏    | 103/200 [1:00:04<56:39, 35.04s/it]"
          ]
        },
        {
          "output_type": "stream",
          "name": "stdout",
          "text": [
            "Iteration 103/200, CE Loss: 98.77540966754427\n"
          ]
        },
        {
          "output_type": "stream",
          "name": "stderr",
          "text": [
            "Fitting UMAP:  52%|█████▏    | 104/200 [1:00:38<55:38, 34.78s/it]"
          ]
        },
        {
          "output_type": "stream",
          "name": "stdout",
          "text": [
            "Iteration 104/200, CE Loss: 98.53538102705441\n"
          ]
        },
        {
          "output_type": "stream",
          "name": "stderr",
          "text": [
            "Fitting UMAP:  52%|█████▎    | 105/200 [1:01:13<55:22, 34.98s/it]"
          ]
        },
        {
          "output_type": "stream",
          "name": "stdout",
          "text": [
            "Iteration 105/200, CE Loss: 98.4972146517278\n"
          ]
        },
        {
          "output_type": "stream",
          "name": "stderr",
          "text": [
            "Fitting UMAP:  53%|█████▎    | 106/200 [1:01:47<54:22, 34.70s/it]"
          ]
        },
        {
          "output_type": "stream",
          "name": "stdout",
          "text": [
            "Iteration 106/200, CE Loss: 98.14185730705736\n"
          ]
        },
        {
          "output_type": "stream",
          "name": "stderr",
          "text": [
            "Fitting UMAP:  54%|█████▎    | 107/200 [1:02:23<54:09, 34.94s/it]"
          ]
        },
        {
          "output_type": "stream",
          "name": "stdout",
          "text": [
            "Iteration 107/200, CE Loss: 98.11079110782792\n"
          ]
        },
        {
          "output_type": "stream",
          "name": "stderr",
          "text": [
            "Fitting UMAP:  54%|█████▍    | 108/200 [1:02:58<53:40, 35.00s/it]"
          ]
        },
        {
          "output_type": "stream",
          "name": "stdout",
          "text": [
            "Iteration 108/200, CE Loss: 97.94797263760577\n"
          ]
        },
        {
          "output_type": "stream",
          "name": "stderr",
          "text": [
            "Fitting UMAP:  55%|█████▍    | 109/200 [1:03:33<52:57, 34.92s/it]"
          ]
        },
        {
          "output_type": "stream",
          "name": "stdout",
          "text": [
            "Iteration 109/200, CE Loss: 97.92592390576219\n"
          ]
        },
        {
          "output_type": "stream",
          "name": "stderr",
          "text": [
            "Fitting UMAP:  55%|█████▌    | 110/200 [1:04:08<52:39, 35.11s/it]"
          ]
        },
        {
          "output_type": "stream",
          "name": "stdout",
          "text": [
            "Iteration 110/200, CE Loss: 97.83728522273512\n"
          ]
        },
        {
          "output_type": "stream",
          "name": "stderr",
          "text": [
            "Fitting UMAP:  56%|█████▌    | 111/200 [1:04:42<51:36, 34.79s/it]"
          ]
        },
        {
          "output_type": "stream",
          "name": "stdout",
          "text": [
            "Iteration 111/200, CE Loss: 97.76454731536576\n"
          ]
        },
        {
          "output_type": "stream",
          "name": "stderr",
          "text": [
            "Fitting UMAP:  56%|█████▌    | 112/200 [1:05:18<51:23, 35.04s/it]"
          ]
        },
        {
          "output_type": "stream",
          "name": "stdout",
          "text": [
            "Iteration 112/200, CE Loss: 97.69056696792943\n"
          ]
        },
        {
          "output_type": "stream",
          "name": "stderr",
          "text": [
            "Fitting UMAP:  56%|█████▋    | 113/200 [1:05:52<50:28, 34.81s/it]"
          ]
        },
        {
          "output_type": "stream",
          "name": "stdout",
          "text": [
            "Iteration 113/200, CE Loss: 97.65541769665343\n"
          ]
        },
        {
          "output_type": "stream",
          "name": "stderr",
          "text": [
            "Fitting UMAP:  57%|█████▋    | 114/200 [1:06:28<50:07, 34.97s/it]"
          ]
        },
        {
          "output_type": "stream",
          "name": "stdout",
          "text": [
            "Iteration 114/200, CE Loss: 97.70731500803973\n"
          ]
        },
        {
          "output_type": "stream",
          "name": "stderr",
          "text": [
            "Fitting UMAP:  57%|█████▊    | 115/200 [1:07:02<49:29, 34.94s/it]"
          ]
        },
        {
          "output_type": "stream",
          "name": "stdout",
          "text": [
            "Iteration 115/200, CE Loss: 97.5351802004908\n"
          ]
        },
        {
          "output_type": "stream",
          "name": "stderr",
          "text": [
            "Fitting UMAP:  58%|█████▊    | 116/200 [1:07:37<48:51, 34.90s/it]"
          ]
        },
        {
          "output_type": "stream",
          "name": "stdout",
          "text": [
            "Iteration 116/200, CE Loss: 97.55963155519646\n"
          ]
        },
        {
          "output_type": "stream",
          "name": "stderr",
          "text": [
            "Fitting UMAP:  58%|█████▊    | 117/200 [1:08:13<48:33, 35.10s/it]"
          ]
        },
        {
          "output_type": "stream",
          "name": "stdout",
          "text": [
            "Iteration 117/200, CE Loss: 97.55374546040954\n"
          ]
        },
        {
          "output_type": "stream",
          "name": "stderr",
          "text": [
            "Fitting UMAP:  59%|█████▉    | 118/200 [1:08:47<47:28, 34.74s/it]"
          ]
        },
        {
          "output_type": "stream",
          "name": "stdout",
          "text": [
            "Iteration 118/200, CE Loss: 97.33867181325044\n"
          ]
        },
        {
          "output_type": "stream",
          "name": "stderr",
          "text": [
            "Fitting UMAP:  60%|█████▉    | 119/200 [1:09:22<47:08, 34.92s/it]"
          ]
        },
        {
          "output_type": "stream",
          "name": "stdout",
          "text": [
            "Iteration 119/200, CE Loss: 97.45902058770031\n"
          ]
        },
        {
          "output_type": "stream",
          "name": "stderr",
          "text": [
            "Fitting UMAP:  60%|██████    | 120/200 [1:09:56<46:17, 34.72s/it]"
          ]
        },
        {
          "output_type": "stream",
          "name": "stdout",
          "text": [
            "Iteration 120/200, CE Loss: 97.0908370024976\n"
          ]
        },
        {
          "output_type": "stream",
          "name": "stderr",
          "text": [
            "Fitting UMAP:  60%|██████    | 121/200 [1:10:32<45:57, 34.91s/it]"
          ]
        },
        {
          "output_type": "stream",
          "name": "stdout",
          "text": [
            "Iteration 121/200, CE Loss: 97.21994958956859\n"
          ]
        },
        {
          "output_type": "stream",
          "name": "stderr",
          "text": [
            "Fitting UMAP:  61%|██████    | 122/200 [1:11:06<45:16, 34.83s/it]"
          ]
        },
        {
          "output_type": "stream",
          "name": "stdout",
          "text": [
            "Iteration 122/200, CE Loss: 96.92323988610124\n"
          ]
        },
        {
          "output_type": "stream",
          "name": "stderr",
          "text": [
            "Fitting UMAP:  62%|██████▏   | 123/200 [1:11:41<44:46, 34.89s/it]"
          ]
        },
        {
          "output_type": "stream",
          "name": "stdout",
          "text": [
            "Iteration 123/200, CE Loss: 96.91125417463452\n"
          ]
        },
        {
          "output_type": "stream",
          "name": "stderr",
          "text": [
            "Fitting UMAP:  62%|██████▏   | 124/200 [1:12:17<44:24, 35.06s/it]"
          ]
        },
        {
          "output_type": "stream",
          "name": "stdout",
          "text": [
            "Iteration 124/200, CE Loss: 96.91174830451438\n"
          ]
        },
        {
          "output_type": "stream",
          "name": "stderr",
          "text": [
            "Fitting UMAP:  62%|██████▎   | 125/200 [1:12:51<43:28, 34.78s/it]"
          ]
        },
        {
          "output_type": "stream",
          "name": "stdout",
          "text": [
            "Iteration 125/200, CE Loss: 96.93939143606292\n"
          ]
        },
        {
          "output_type": "stream",
          "name": "stderr",
          "text": [
            "Fitting UMAP:  63%|██████▎   | 126/200 [1:13:27<43:20, 35.15s/it]"
          ]
        },
        {
          "output_type": "stream",
          "name": "stdout",
          "text": [
            "Iteration 126/200, CE Loss: 96.66559212037194\n"
          ]
        },
        {
          "output_type": "stream",
          "name": "stderr",
          "text": [
            "Fitting UMAP:  64%|██████▎   | 127/200 [1:14:02<42:42, 35.10s/it]"
          ]
        },
        {
          "output_type": "stream",
          "name": "stdout",
          "text": [
            "Iteration 127/200, CE Loss: 96.73333519986656\n"
          ]
        },
        {
          "output_type": "stream",
          "name": "stderr",
          "text": [
            "Fitting UMAP:  64%|██████▍   | 128/200 [1:14:37<42:10, 35.15s/it]"
          ]
        },
        {
          "output_type": "stream",
          "name": "stdout",
          "text": [
            "Iteration 128/200, CE Loss: 96.60956266559263\n"
          ]
        },
        {
          "output_type": "stream",
          "name": "stderr",
          "text": [
            "Fitting UMAP:  64%|██████▍   | 129/200 [1:15:13<41:52, 35.38s/it]"
          ]
        },
        {
          "output_type": "stream",
          "name": "stdout",
          "text": [
            "Iteration 129/200, CE Loss: 96.73741656565346\n"
          ]
        },
        {
          "output_type": "stream",
          "name": "stderr",
          "text": [
            "Fitting UMAP:  65%|██████▌   | 130/200 [1:15:47<40:54, 35.07s/it]"
          ]
        },
        {
          "output_type": "stream",
          "name": "stdout",
          "text": [
            "Iteration 130/200, CE Loss: 96.24234552164353\n"
          ]
        },
        {
          "output_type": "stream",
          "name": "stderr",
          "text": [
            "Fitting UMAP:  66%|██████▌   | 131/200 [1:16:23<40:27, 35.19s/it]"
          ]
        },
        {
          "output_type": "stream",
          "name": "stdout",
          "text": [
            "Iteration 131/200, CE Loss: 96.68548360796339\n"
          ]
        },
        {
          "output_type": "stream",
          "name": "stderr",
          "text": [
            "Fitting UMAP:  66%|██████▌   | 132/200 [1:16:57<39:34, 34.92s/it]"
          ]
        },
        {
          "output_type": "stream",
          "name": "stdout",
          "text": [
            "Iteration 132/200, CE Loss: 96.49786493320383\n"
          ]
        },
        {
          "output_type": "stream",
          "name": "stderr",
          "text": [
            "Fitting UMAP:  66%|██████▋   | 133/200 [1:17:33<39:13, 35.12s/it]"
          ]
        },
        {
          "output_type": "stream",
          "name": "stdout",
          "text": [
            "Iteration 133/200, CE Loss: 96.46995688596598\n"
          ]
        },
        {
          "output_type": "stream",
          "name": "stderr",
          "text": [
            "Fitting UMAP:  67%|██████▋   | 134/200 [1:18:08<38:35, 35.08s/it]"
          ]
        },
        {
          "output_type": "stream",
          "name": "stdout",
          "text": [
            "Iteration 134/200, CE Loss: 96.19937396874785\n"
          ]
        },
        {
          "output_type": "stream",
          "name": "stderr",
          "text": [
            "Fitting UMAP:  68%|██████▊   | 135/200 [1:18:42<37:49, 34.92s/it]"
          ]
        },
        {
          "output_type": "stream",
          "name": "stdout",
          "text": [
            "Iteration 135/200, CE Loss: 96.42240317890312\n"
          ]
        },
        {
          "output_type": "stream",
          "name": "stderr",
          "text": [
            "Fitting UMAP:  68%|██████▊   | 136/200 [1:19:18<37:31, 35.18s/it]"
          ]
        },
        {
          "output_type": "stream",
          "name": "stdout",
          "text": [
            "Iteration 136/200, CE Loss: 95.92788348949352\n"
          ]
        },
        {
          "output_type": "stream",
          "name": "stderr",
          "text": [
            "Fitting UMAP:  68%|██████▊   | 137/200 [1:19:52<36:36, 34.87s/it]"
          ]
        },
        {
          "output_type": "stream",
          "name": "stdout",
          "text": [
            "Iteration 137/200, CE Loss: 96.40851531723231\n"
          ]
        },
        {
          "output_type": "stream",
          "name": "stderr",
          "text": [
            "Fitting UMAP:  69%|██████▉   | 138/200 [1:20:28<36:16, 35.11s/it]"
          ]
        },
        {
          "output_type": "stream",
          "name": "stdout",
          "text": [
            "Iteration 138/200, CE Loss: 95.8120583773644\n"
          ]
        }
      ],
      "source": [
        "# Apply UMAP\n",
        "umap_representation = UMAPRepresentation(representations, n_neighbors=15, min_dist=0.5, n_components=2, learning_rate=1, max_iter=200)\n",
        "umap_embeddings = umap_representation.fit()\n",
        "\n",
        "# Extract class labels from CIFAR10\n",
        "class_labels = []\n",
        "for _, labels in testloader:\n",
        "    class_labels.extend(labels.tolist())\n",
        "\n",
        "# Convert to a NumPy array for easier handling\n",
        "import numpy as np\n",
        "class_labels = np.array(class_labels)\n",
        "\n",
        "# Plotting the UMAP embeddings\n",
        "plt.scatter(umap_embeddings[:, 0], umap_embeddings[:, 1], c=class_labels, cmap='tab10', s=50)\n",
        "plt.title('UMAP Representation of CIFAR10 Test Set', fontsize=14)\n",
        "plt.xlabel(\"UMAP1\", fontsize=12)\n",
        "plt.ylabel(\"UMAP2\", fontsize=12)\n",
        "plt.colorbar()  # Add a color bar to show the correspondence to class labels\n",
        "plt.show()"
      ]
    }
  ],
  "metadata": {
    "accelerator": "GPU",
    "colab": {
      "machine_shape": "hm",
      "provenance": []
    },
    "kernelspec": {
      "display_name": "Python 3",
      "name": "python3"
    },
    "language_info": {
      "name": "python"
    }
  },
  "nbformat": 4,
  "nbformat_minor": 0
}